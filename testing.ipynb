{
 "cells": [
  {
   "cell_type": "code",
   "execution_count": 1,
   "metadata": {},
   "outputs": [],
   "source": [
    "import sys\n",
    "sys.path.append('./python_skeleton')\n",
    "from engine.gym_env import PokerEnv\n",
    "from python_skeleton.bluff_prob import BluffPlayer\n",
    "from python_skeleton.all_in import AllInPlayer\n",
    "from skeleton.actions import CallAction, FoldAction, CheckAction"
   ]
  },
  {
   "cell_type": "code",
   "execution_count": 8,
   "metadata": {},
   "outputs": [
    {
     "data": {
      "text/plain": [
       "{'is_my_turn': 1,\n",
       " 'legal_actions': array([1, 1, 0, 1], dtype=int8),\n",
       " 'street': 0,\n",
       " 'my_cards': array(['6h', '3d'], dtype='<U2'),\n",
       " 'board_cards': array([], dtype=float64),\n",
       " 'my_pip': array([1]),\n",
       " 'opp_pip': array([2]),\n",
       " 'my_stack': array([399]),\n",
       " 'opp_stack': array([398]),\n",
       " 'my_bankroll': array([0]),\n",
       " 'min_raise': array([4]),\n",
       " 'max_raise': array([400]),\n",
       " 'opp_shown_card': array([0, 0]),\n",
       " 'round_num': 1}"
      ]
     },
     "execution_count": 8,
     "metadata": {},
     "output_type": "execute_result"
    }
   ],
   "source": [
    "env = PokerEnv()\n",
    "(obs1, _ ), _ = env.reset()\n",
    "obs1"
   ]
  },
  {
   "cell_type": "code",
   "execution_count": 3,
   "metadata": {},
   "outputs": [],
   "source": [
    "def unpack_action(action):\n",
    "\n",
    "    if isinstance(action, FoldAction):\n",
    "        return 0, 0\n",
    "    elif isinstance(action, CallAction):\n",
    "        return 1, 0\n",
    "    elif isinstance(action, CheckAction):\n",
    "        return 2, 0\n",
    "    return 3, action.amount"
   ]
  },
  {
   "cell_type": "code",
   "execution_count": 23,
   "metadata": {},
   "outputs": [],
   "source": [
    "env = PokerEnv(num_rounds=1000)\n",
    "(obs1, obs2), info = env.reset()\n",
    "bot1, bot2 = BluffPlayer(), BluffPlayer()\n",
    "bot1.handle_new_round(None, None, None)\n",
    "bot2.handle_new_round(None, None, None)\n",
    "\n",
    "done = False\n",
    "# while not done:\n",
    "for _ in range(10):\n",
    "    if obs1[\"is_my_turn\"]:\n",
    "        action = bot1.get_action(obs1)\n",
    "    else:\n",
    "        action = bot2.get_action(obs2)\n",
    "    (obs1, obs2), (reward1, reward2), done, trunc, info = env.step(unpack_action(action))"
   ]
  },
  {
   "cell_type": "code",
   "execution_count": 24,
   "metadata": {},
   "outputs": [
    {
     "data": {
      "text/plain": [
       "{'is_my_turn': 1,\n",
       " 'legal_actions': array([1, 1, 0, 1], dtype=int8),\n",
       " 'street': 0,\n",
       " 'my_cards': array(['2s', '8d'], dtype='<U2'),\n",
       " 'board_cards': array([], dtype=float64),\n",
       " 'my_pip': array([1]),\n",
       " 'opp_pip': array([2]),\n",
       " 'my_stack': array([399]),\n",
       " 'opp_stack': array([398]),\n",
       " 'my_bankroll': array([-10]),\n",
       " 'min_raise': array([4]),\n",
       " 'max_raise': array([400]),\n",
       " 'opp_shown_card': array([14,  5]),\n",
       " 'round_num': 11}"
      ]
     },
     "execution_count": 24,
     "metadata": {},
     "output_type": "execute_result"
    }
   ],
   "source": [
    "obs1"
   ]
  }
 ],
 "metadata": {
  "kernelspec": {
   "display_name": "poker",
   "language": "python",
   "name": "python3"
  },
  "language_info": {
   "codemirror_mode": {
    "name": "ipython",
    "version": 3
   },
   "file_extension": ".py",
   "mimetype": "text/x-python",
   "name": "python",
   "nbconvert_exporter": "python",
   "pygments_lexer": "ipython3",
   "version": "3.12.2"
  }
 },
 "nbformat": 4,
 "nbformat_minor": 2
}
